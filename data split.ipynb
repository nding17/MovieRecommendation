{
 "cells": [
  {
   "cell_type": "code",
   "execution_count": 5,
   "metadata": {},
   "outputs": [],
   "source": [
    "import pandas as pd\n",
    "import numpy as np\n",
    "import matplotlib.pyplot as plt"
   ]
  },
  {
   "cell_type": "code",
   "execution_count": 6,
   "metadata": {},
   "outputs": [],
   "source": [
    "df_gs = pd.read_csv('./data/genome-scores.csv')\n",
    "df_gt = pd.read_csv('./data/genome-tags.csv')\n",
    "df_links = pd.read_csv('./data/links.csv')\n",
    "df_movies = pd.read_csv('./data/movies.csv')\n",
    "df_ratings = pd.read_csv('./data/ratings.csv')\n",
    "df_tags = pd.read_csv('./data/tags.csv')"
   ]
  },
  {
   "cell_type": "code",
   "execution_count": 7,
   "metadata": {},
   "outputs": [
    {
     "name": "stdout",
     "output_type": "stream",
     "text": [
      "<class 'pandas.core.frame.DataFrame'>\n",
      "RangeIndex: 20000263 entries, 0 to 20000262\n",
      "Data columns (total 4 columns):\n",
      "userId       int64\n",
      "movieId      int64\n",
      "rating       float64\n",
      "timestamp    int64\n",
      "dtypes: float64(1), int64(3)\n",
      "memory usage: 610.4 MB\n"
     ]
    }
   ],
   "source": [
    "df_ratings.info()"
   ]
  },
  {
   "cell_type": "markdown",
   "metadata": {},
   "source": [
    "## Randomly select 10000 unique users"
   ]
  },
  {
   "cell_type": "code",
   "execution_count": 21,
   "metadata": {},
   "outputs": [],
   "source": [
    "all_users = df_ratings['userId'].unique()\n",
    "np.random.seed(42)\n",
    "random_users = np.random.choice(all_users, size=10000, replace=False)\n",
    "df_ratings_random = df_ratings.loc[df_ratings.userId.isin(random_users)]"
   ]
  },
  {
   "cell_type": "markdown",
   "metadata": {},
   "source": [
    "## Pivot table - indexing on userId and use movieId as columns"
   ]
  },
  {
   "cell_type": "code",
   "execution_count": 22,
   "metadata": {},
   "outputs": [],
   "source": [
    "df_ratings_pivot = pd.pivot_table(df_ratings_random, values='rating', index=['userId'], columns=['movieId'])"
   ]
  },
  {
   "cell_type": "code",
   "execution_count": 23,
   "metadata": {},
   "outputs": [
    {
     "data": {
      "text/html": [
       "<div>\n",
       "<style scoped>\n",
       "    .dataframe tbody tr th:only-of-type {\n",
       "        vertical-align: middle;\n",
       "    }\n",
       "\n",
       "    .dataframe tbody tr th {\n",
       "        vertical-align: top;\n",
       "    }\n",
       "\n",
       "    .dataframe thead th {\n",
       "        text-align: right;\n",
       "    }\n",
       "</style>\n",
       "<table border=\"1\" class=\"dataframe\">\n",
       "  <thead>\n",
       "    <tr style=\"text-align: right;\">\n",
       "      <th>movieId</th>\n",
       "      <th>1</th>\n",
       "      <th>2</th>\n",
       "      <th>3</th>\n",
       "      <th>4</th>\n",
       "      <th>5</th>\n",
       "      <th>6</th>\n",
       "      <th>7</th>\n",
       "      <th>8</th>\n",
       "      <th>9</th>\n",
       "      <th>10</th>\n",
       "      <th>...</th>\n",
       "      <th>130500</th>\n",
       "      <th>130502</th>\n",
       "      <th>130506</th>\n",
       "      <th>130508</th>\n",
       "      <th>130510</th>\n",
       "      <th>130682</th>\n",
       "      <th>130964</th>\n",
       "      <th>131019</th>\n",
       "      <th>131164</th>\n",
       "      <th>131166</th>\n",
       "    </tr>\n",
       "    <tr>\n",
       "      <th>userId</th>\n",
       "      <th></th>\n",
       "      <th></th>\n",
       "      <th></th>\n",
       "      <th></th>\n",
       "      <th></th>\n",
       "      <th></th>\n",
       "      <th></th>\n",
       "      <th></th>\n",
       "      <th></th>\n",
       "      <th></th>\n",
       "      <th></th>\n",
       "      <th></th>\n",
       "      <th></th>\n",
       "      <th></th>\n",
       "      <th></th>\n",
       "      <th></th>\n",
       "      <th></th>\n",
       "      <th></th>\n",
       "      <th></th>\n",
       "      <th></th>\n",
       "      <th></th>\n",
       "    </tr>\n",
       "  </thead>\n",
       "  <tbody>\n",
       "    <tr>\n",
       "      <th>24</th>\n",
       "      <td>4.0</td>\n",
       "      <td>NaN</td>\n",
       "      <td>NaN</td>\n",
       "      <td>NaN</td>\n",
       "      <td>2.0</td>\n",
       "      <td>4.0</td>\n",
       "      <td>3.0</td>\n",
       "      <td>NaN</td>\n",
       "      <td>NaN</td>\n",
       "      <td>3.0</td>\n",
       "      <td>...</td>\n",
       "      <td>NaN</td>\n",
       "      <td>NaN</td>\n",
       "      <td>NaN</td>\n",
       "      <td>NaN</td>\n",
       "      <td>NaN</td>\n",
       "      <td>NaN</td>\n",
       "      <td>NaN</td>\n",
       "      <td>NaN</td>\n",
       "      <td>NaN</td>\n",
       "      <td>NaN</td>\n",
       "    </tr>\n",
       "    <tr>\n",
       "      <th>36</th>\n",
       "      <td>NaN</td>\n",
       "      <td>NaN</td>\n",
       "      <td>NaN</td>\n",
       "      <td>NaN</td>\n",
       "      <td>NaN</td>\n",
       "      <td>NaN</td>\n",
       "      <td>NaN</td>\n",
       "      <td>NaN</td>\n",
       "      <td>NaN</td>\n",
       "      <td>NaN</td>\n",
       "      <td>...</td>\n",
       "      <td>NaN</td>\n",
       "      <td>NaN</td>\n",
       "      <td>NaN</td>\n",
       "      <td>NaN</td>\n",
       "      <td>NaN</td>\n",
       "      <td>NaN</td>\n",
       "      <td>NaN</td>\n",
       "      <td>NaN</td>\n",
       "      <td>NaN</td>\n",
       "      <td>NaN</td>\n",
       "    </tr>\n",
       "    <tr>\n",
       "      <th>88</th>\n",
       "      <td>NaN</td>\n",
       "      <td>1.0</td>\n",
       "      <td>NaN</td>\n",
       "      <td>NaN</td>\n",
       "      <td>NaN</td>\n",
       "      <td>NaN</td>\n",
       "      <td>1.0</td>\n",
       "      <td>NaN</td>\n",
       "      <td>NaN</td>\n",
       "      <td>NaN</td>\n",
       "      <td>...</td>\n",
       "      <td>NaN</td>\n",
       "      <td>NaN</td>\n",
       "      <td>NaN</td>\n",
       "      <td>NaN</td>\n",
       "      <td>NaN</td>\n",
       "      <td>NaN</td>\n",
       "      <td>NaN</td>\n",
       "      <td>NaN</td>\n",
       "      <td>NaN</td>\n",
       "      <td>NaN</td>\n",
       "    </tr>\n",
       "    <tr>\n",
       "      <th>90</th>\n",
       "      <td>3.5</td>\n",
       "      <td>NaN</td>\n",
       "      <td>NaN</td>\n",
       "      <td>NaN</td>\n",
       "      <td>NaN</td>\n",
       "      <td>NaN</td>\n",
       "      <td>NaN</td>\n",
       "      <td>NaN</td>\n",
       "      <td>NaN</td>\n",
       "      <td>3.5</td>\n",
       "      <td>...</td>\n",
       "      <td>NaN</td>\n",
       "      <td>NaN</td>\n",
       "      <td>NaN</td>\n",
       "      <td>NaN</td>\n",
       "      <td>NaN</td>\n",
       "      <td>NaN</td>\n",
       "      <td>NaN</td>\n",
       "      <td>NaN</td>\n",
       "      <td>NaN</td>\n",
       "      <td>NaN</td>\n",
       "    </tr>\n",
       "    <tr>\n",
       "      <th>111</th>\n",
       "      <td>NaN</td>\n",
       "      <td>NaN</td>\n",
       "      <td>NaN</td>\n",
       "      <td>NaN</td>\n",
       "      <td>NaN</td>\n",
       "      <td>NaN</td>\n",
       "      <td>NaN</td>\n",
       "      <td>NaN</td>\n",
       "      <td>NaN</td>\n",
       "      <td>NaN</td>\n",
       "      <td>...</td>\n",
       "      <td>NaN</td>\n",
       "      <td>NaN</td>\n",
       "      <td>NaN</td>\n",
       "      <td>NaN</td>\n",
       "      <td>NaN</td>\n",
       "      <td>NaN</td>\n",
       "      <td>NaN</td>\n",
       "      <td>NaN</td>\n",
       "      <td>NaN</td>\n",
       "      <td>NaN</td>\n",
       "    </tr>\n",
       "  </tbody>\n",
       "</table>\n",
       "<p>5 rows × 16581 columns</p>\n",
       "</div>"
      ],
      "text/plain": [
       "movieId  1       2       3       4       5       6       7       8       \\\n",
       "userId                                                                    \n",
       "24          4.0     NaN     NaN     NaN     2.0     4.0     3.0     NaN   \n",
       "36          NaN     NaN     NaN     NaN     NaN     NaN     NaN     NaN   \n",
       "88          NaN     1.0     NaN     NaN     NaN     NaN     1.0     NaN   \n",
       "90          3.5     NaN     NaN     NaN     NaN     NaN     NaN     NaN   \n",
       "111         NaN     NaN     NaN     NaN     NaN     NaN     NaN     NaN   \n",
       "\n",
       "movieId  9       10      ...  130500  130502  130506  130508  130510  130682  \\\n",
       "userId                   ...                                                   \n",
       "24          NaN     3.0  ...     NaN     NaN     NaN     NaN     NaN     NaN   \n",
       "36          NaN     NaN  ...     NaN     NaN     NaN     NaN     NaN     NaN   \n",
       "88          NaN     NaN  ...     NaN     NaN     NaN     NaN     NaN     NaN   \n",
       "90          NaN     3.5  ...     NaN     NaN     NaN     NaN     NaN     NaN   \n",
       "111         NaN     NaN  ...     NaN     NaN     NaN     NaN     NaN     NaN   \n",
       "\n",
       "movieId  130964  131019  131164  131166  \n",
       "userId                                   \n",
       "24          NaN     NaN     NaN     NaN  \n",
       "36          NaN     NaN     NaN     NaN  \n",
       "88          NaN     NaN     NaN     NaN  \n",
       "90          NaN     NaN     NaN     NaN  \n",
       "111         NaN     NaN     NaN     NaN  \n",
       "\n",
       "[5 rows x 16581 columns]"
      ]
     },
     "execution_count": 23,
     "metadata": {},
     "output_type": "execute_result"
    }
   ],
   "source": [
    "df_ratings_pivot.head()"
   ]
  },
  {
   "cell_type": "markdown",
   "metadata": {},
   "source": [
    "## Check how many movies the users have rated"
   ]
  },
  {
   "cell_type": "code",
   "execution_count": 69,
   "metadata": {},
   "outputs": [
    {
     "data": {
      "text/plain": [
       "count    10000.000000\n",
       "mean       144.804800\n",
       "std        233.007248\n",
       "min         20.000000\n",
       "25%         34.000000\n",
       "50%         67.000000\n",
       "75%        152.000000\n",
       "max       4236.000000\n",
       "dtype: float64"
      ]
     },
     "execution_count": 69,
     "metadata": {},
     "output_type": "execute_result"
    }
   ],
   "source": [
    "summary = df_ratings_pivot.count(axis=1).describe()\n",
    "summary"
   ]
  },
  {
   "cell_type": "code",
   "execution_count": 70,
   "metadata": {},
   "outputs": [
    {
     "data": {
      "text/plain": [
       "34.0"
      ]
     },
     "execution_count": 70,
     "metadata": {},
     "output_type": "execute_result"
    }
   ],
   "source": [
    "summary['25%']"
   ]
  },
  {
   "cell_type": "markdown",
   "metadata": {},
   "source": [
    "## Split the data frame into two category - inactive users and active users (25% quantile)"
   ]
  },
  {
   "cell_type": "code",
   "execution_count": 50,
   "metadata": {},
   "outputs": [],
   "source": [
    "df_inactive = df_ratings_pivot.loc[df_ratings_pivot.count(axis=1)<=34]\n",
    "df_active = df_ratings_pivot.loc[df_ratings_pivot.count(axis=1)>34]"
   ]
  },
  {
   "cell_type": "code",
   "execution_count": 51,
   "metadata": {},
   "outputs": [
    {
     "name": "stdout",
     "output_type": "stream",
     "text": [
      "(2579, 16581) (7421, 16581)\n"
     ]
    }
   ],
   "source": [
    "print(df_inactive.shape, df_active.shape)"
   ]
  },
  {
   "cell_type": "code",
   "execution_count": 60,
   "metadata": {},
   "outputs": [
    {
     "data": {
      "text/plain": [
       "count    2579.000000\n",
       "mean       25.795657\n",
       "std         4.385484\n",
       "min        20.000000\n",
       "25%        22.000000\n",
       "50%        25.000000\n",
       "75%        29.000000\n",
       "max        34.000000\n",
       "dtype: float64"
      ]
     },
     "execution_count": 60,
     "metadata": {},
     "output_type": "execute_result"
    }
   ],
   "source": [
    "df_inactive.count(axis=1).describe()"
   ]
  },
  {
   "cell_type": "code",
   "execution_count": 61,
   "metadata": {},
   "outputs": [
    {
     "data": {
      "text/plain": [
       "count    7421.000000\n",
       "mean      186.163725\n",
       "std       257.920097\n",
       "min        35.000000\n",
       "25%        56.000000\n",
       "50%       100.000000\n",
       "75%       201.000000\n",
       "max      4236.000000\n",
       "dtype: float64"
      ]
     },
     "execution_count": 61,
     "metadata": {},
     "output_type": "execute_result"
    }
   ],
   "source": [
    "df_active.count(axis=1).describe()"
   ]
  },
  {
   "cell_type": "markdown",
   "metadata": {},
   "source": [
    "## Stratified randomization in both inactive and active users to get train and test set"
   ]
  },
  {
   "cell_type": "code",
   "execution_count": 63,
   "metadata": {},
   "outputs": [],
   "source": [
    "def split(data, train_size=0.8):\n",
    "    msk = np.random.rand(len(data)) < train_size\n",
    "    train = data[msk]  \n",
    "    test = data[~msk]\n",
    "    return train, test"
   ]
  },
  {
   "cell_type": "code",
   "execution_count": 64,
   "metadata": {},
   "outputs": [],
   "source": [
    "train_active, test_active = split(df_active)\n",
    "train_inactive, test_inactive = split(df_inactive)"
   ]
  },
  {
   "cell_type": "code",
   "execution_count": 65,
   "metadata": {},
   "outputs": [],
   "source": [
    "train = pd.concat([train_active, train_inactive])\n",
    "test = pd.concat([test_active, test_inactive])"
   ]
  },
  {
   "cell_type": "markdown",
   "metadata": {},
   "source": [
    "## Check the distribution of the train and test sets, as you can see, pretty much consistent"
   ]
  },
  {
   "cell_type": "code",
   "execution_count": 66,
   "metadata": {},
   "outputs": [
    {
     "data": {
      "text/plain": [
       "count    7978.000000\n",
       "mean      145.160065\n",
       "std       234.448364\n",
       "min        20.000000\n",
       "25%        34.000000\n",
       "50%        67.000000\n",
       "75%       153.750000\n",
       "max      4236.000000\n",
       "dtype: float64"
      ]
     },
     "execution_count": 66,
     "metadata": {},
     "output_type": "execute_result"
    }
   ],
   "source": [
    "train.count(axis=1).describe()"
   ]
  },
  {
   "cell_type": "code",
   "execution_count": 67,
   "metadata": {},
   "outputs": [
    {
     "data": {
      "text/plain": [
       "count    2022.000000\n",
       "mean      143.403066\n",
       "std       227.283555\n",
       "min        20.000000\n",
       "25%        33.000000\n",
       "50%        63.500000\n",
       "75%       149.000000\n",
       "max      3488.000000\n",
       "dtype: float64"
      ]
     },
     "execution_count": 67,
     "metadata": {},
     "output_type": "execute_result"
    }
   ],
   "source": [
    "test.count(axis=1).describe()"
   ]
  },
  {
   "cell_type": "markdown",
   "metadata": {},
   "source": [
    "## Deploy the code in a function"
   ]
  },
  {
   "cell_type": "code",
   "execution_count": 84,
   "metadata": {},
   "outputs": [],
   "source": [
    "def train_test_split(data,\n",
    "                     random_size=10000,\n",
    "                     train_size=0.8, \n",
    "                     threshold='25%', \n",
    "                     index='userId',\n",
    "                     values='rating',\n",
    "                     columns='movieId'):\n",
    "    \n",
    "    # randomly select 10000 users \n",
    "    np.random.seed(42)\n",
    "    all_users = data[index].unique()\n",
    "    random_users = np.random.choice(all_users, \n",
    "                                    size=random_size, \n",
    "                                    replace=False)\n",
    "    df_random = data.loc[data.userId.isin(random_users)]\n",
    "    \n",
    "    # Pivot table - indexing on userId and use movieId as columns\n",
    "    df_pivot = pd.pivot_table(df_random, \n",
    "                              values=[values], \n",
    "                              index=[index], \n",
    "                              columns=[columns])\n",
    "    \n",
    "    # default threshold is 25% quantile but could be specified\n",
    "    cut = df_pivot.count(axis=1).describe()[threshold]\n",
    "    \n",
    "    # select active and inactive users based on 25% cut \n",
    "    df_inactive = df_pivot.loc[df_pivot.count(axis=1)<=cut]\n",
    "    df_active = df_pivot.loc[df_pivot.count(axis=1)>cut]\n",
    "    \n",
    "    # helper function to split train and test set \n",
    "    def split(data):\n",
    "        msk = np.random.rand(len(data)) < train_size\n",
    "        train = data[msk]  \n",
    "        test = data[~msk]\n",
    "        return train, test\n",
    "    \n",
    "    # split train test for active users and inactive users \n",
    "    # seperately\n",
    "    train_active, test_active = split(df_active)\n",
    "    train_inactive, test_inactive = split(df_inactive)\n",
    "    \n",
    "    # combine train and test sets for active and inactive users \n",
    "    train = pd.concat([train_active, train_inactive])\n",
    "    test = pd.concat([test_active, test_inactive])\n",
    "    \n",
    "    return train, test"
   ]
  },
  {
   "cell_type": "code",
   "execution_count": 81,
   "metadata": {},
   "outputs": [],
   "source": [
    "train, test = train_test_split(df_ratings)"
   ]
  },
  {
   "cell_type": "code",
   "execution_count": 82,
   "metadata": {},
   "outputs": [
    {
     "data": {
      "text/plain": [
       "count    7978.000000\n",
       "mean      145.160065\n",
       "std       234.448364\n",
       "min        20.000000\n",
       "25%        34.000000\n",
       "50%        67.000000\n",
       "75%       153.750000\n",
       "max      4236.000000\n",
       "dtype: float64"
      ]
     },
     "execution_count": 82,
     "metadata": {},
     "output_type": "execute_result"
    }
   ],
   "source": [
    "train.count(axis=1).describe()"
   ]
  },
  {
   "cell_type": "code",
   "execution_count": 83,
   "metadata": {},
   "outputs": [
    {
     "data": {
      "text/plain": [
       "count    2022.000000\n",
       "mean      143.403066\n",
       "std       227.283555\n",
       "min        20.000000\n",
       "25%        33.000000\n",
       "50%        63.500000\n",
       "75%       149.000000\n",
       "max      3488.000000\n",
       "dtype: float64"
      ]
     },
     "execution_count": 83,
     "metadata": {},
     "output_type": "execute_result"
    }
   ],
   "source": [
    "test.count(axis=1).describe()"
   ]
  },
  {
   "cell_type": "code",
   "execution_count": null,
   "metadata": {},
   "outputs": [],
   "source": []
  }
 ],
 "metadata": {
  "kernelspec": {
   "display_name": "Python 3",
   "language": "python",
   "name": "python3"
  },
  "language_info": {
   "codemirror_mode": {
    "name": "ipython",
    "version": 3
   },
   "file_extension": ".py",
   "mimetype": "text/x-python",
   "name": "python",
   "nbconvert_exporter": "python",
   "pygments_lexer": "ipython3",
   "version": "3.7.3"
  }
 },
 "nbformat": 4,
 "nbformat_minor": 2
}
