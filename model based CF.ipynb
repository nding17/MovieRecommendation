{
 "cells": [
  {
   "cell_type": "code",
   "execution_count": 33,
   "metadata": {},
   "outputs": [],
   "source": [
    "import pandas as pd\n",
    "import numpy as np\n",
    "import datetime\n",
    "import pyspark\n",
    "from pyspark.sql import SparkSession\n",
    "from pyspark.ml.recommendation import ALS\n",
    "from pyspark.ml.evaluation import RegressionEvaluator\n",
    "from pyspark.mllib.evaluation import RegressionMetrics, RankingMetrics\n",
    "from pyspark.ml.tuning import CrossValidator, ParamGridBuilder"
   ]
  },
  {
   "cell_type": "code",
   "execution_count": 8,
   "metadata": {},
   "outputs": [],
   "source": [
    "spark = SparkSession.builder.getOrCreate()"
   ]
  },
  {
   "cell_type": "code",
   "execution_count": 9,
   "metadata": {},
   "outputs": [],
   "source": [
    "ratings = pd.read_csv('./data/ratings.csv')"
   ]
  },
  {
   "cell_type": "code",
   "execution_count": 10,
   "metadata": {},
   "outputs": [],
   "source": [
    "ratings['timestamp'] = ratings['timestamp'].apply(datetime.datetime.fromtimestamp)\n",
    "sample = ratings[ratings['timestamp'].apply(lambda x: x.date()) >= datetime.date(2013,3,31)]"
   ]
  },
  {
   "cell_type": "code",
   "execution_count": 30,
   "metadata": {},
   "outputs": [],
   "source": [
    "df = spark.createDataFrame(sample)\n",
    "(train_samp, test_samp) = df.randomSplit([0.8, 0.2])\n",
    "model = ALS(userCol='userId', \n",
    "            itemCol='movieId', \n",
    "            ratingCol='rating').fit(train_samp)"
   ]
  },
  {
   "cell_type": "code",
   "execution_count": 31,
   "metadata": {},
   "outputs": [
    {
     "data": {
      "text/html": [
       "<div>\n",
       "<style scoped>\n",
       "    .dataframe tbody tr th:only-of-type {\n",
       "        vertical-align: middle;\n",
       "    }\n",
       "\n",
       "    .dataframe tbody tr th {\n",
       "        vertical-align: top;\n",
       "    }\n",
       "\n",
       "    .dataframe thead th {\n",
       "        text-align: right;\n",
       "    }\n",
       "</style>\n",
       "<table border=\"1\" class=\"dataframe\">\n",
       "  <thead>\n",
       "    <tr style=\"text-align: right;\">\n",
       "      <th></th>\n",
       "      <th>userId</th>\n",
       "      <th>movieId</th>\n",
       "      <th>rating</th>\n",
       "      <th>timestamp</th>\n",
       "      <th>prediction</th>\n",
       "    </tr>\n",
       "  </thead>\n",
       "  <tbody>\n",
       "    <tr>\n",
       "      <th>0</th>\n",
       "      <td>29100</td>\n",
       "      <td>463</td>\n",
       "      <td>1.0</td>\n",
       "      <td>2015-03-14 11:36:32</td>\n",
       "      <td>2.271202</td>\n",
       "    </tr>\n",
       "    <tr>\n",
       "      <th>1</th>\n",
       "      <td>66277</td>\n",
       "      <td>471</td>\n",
       "      <td>3.0</td>\n",
       "      <td>2013-09-01 12:00:35</td>\n",
       "      <td>4.527064</td>\n",
       "    </tr>\n",
       "    <tr>\n",
       "      <th>2</th>\n",
       "      <td>62003</td>\n",
       "      <td>471</td>\n",
       "      <td>4.0</td>\n",
       "      <td>2015-02-21 10:15:30</td>\n",
       "      <td>3.237234</td>\n",
       "    </tr>\n",
       "    <tr>\n",
       "      <th>3</th>\n",
       "      <td>5936</td>\n",
       "      <td>471</td>\n",
       "      <td>4.5</td>\n",
       "      <td>2013-04-05 13:48:07</td>\n",
       "      <td>4.241895</td>\n",
       "    </tr>\n",
       "    <tr>\n",
       "      <th>4</th>\n",
       "      <td>12055</td>\n",
       "      <td>471</td>\n",
       "      <td>5.0</td>\n",
       "      <td>2013-11-12 02:27:46</td>\n",
       "      <td>3.324728</td>\n",
       "    </tr>\n",
       "  </tbody>\n",
       "</table>\n",
       "</div>"
      ],
      "text/plain": [
       "   userId  movieId  rating           timestamp  prediction\n",
       "0   29100      463     1.0 2015-03-14 11:36:32    2.271202\n",
       "1   66277      471     3.0 2013-09-01 12:00:35    4.527064\n",
       "2   62003      471     4.0 2015-02-21 10:15:30    3.237234\n",
       "3    5936      471     4.5 2013-04-05 13:48:07    4.241895\n",
       "4   12055      471     5.0 2013-11-12 02:27:46    3.324728"
      ]
     },
     "execution_count": 31,
     "metadata": {},
     "output_type": "execute_result"
    }
   ],
   "source": [
    "predictions = model.transform(test_samp)\n",
    "predictions.toPandas().head()"
   ]
  },
  {
   "cell_type": "code",
   "execution_count": 32,
   "metadata": {},
   "outputs": [
    {
     "data": {
      "text/plain": [
       "0.7998222216539371"
      ]
     },
     "execution_count": 32,
     "metadata": {},
     "output_type": "execute_result"
    }
   ],
   "source": [
    "evaluator = RegressionEvaluator(metricName='rmse', labelCol='rating', predictionCol='prediction')\n",
    "evaluator.evaluate(predictions.na.drop())"
   ]
  },
  {
   "cell_type": "code",
   "execution_count": 27,
   "metadata": {},
   "outputs": [],
   "source": [
    "def multiALSrun(df, \n",
    "                k=3, \n",
    "                userCol='userId',\n",
    "                itemCol='movieId',\n",
    "                ratingCol='rating',\n",
    "                metricName='rmse'):\n",
    "    \n",
    "    evaluations = np.array([])\n",
    "    \n",
    "    for i in range(0, k):\n",
    "        (train, test) = df.randomSplit([(k-1.0)/k, 1.0/k])\n",
    "        als = ALS(userCol=userCol, \n",
    "                  itemCol=itemCol, \n",
    "                  ratingCol=ratingCol)\n",
    "        model = als.fit(train)\n",
    "        pred = model.transform(test)\n",
    "        evaluator = RegressionEvaluator(metricName=metricName, \n",
    "                                        labelCol='rating', \n",
    "                                        predictionCol='prediction')\n",
    "        evaluation = evaluator.evaluate(pred.na.drop())\n",
    "        print(f'k={i} rmse={evaluation}')\n",
    "        evaluations = np.append(evaluations, evaluation)\n",
    "    \n",
    "    return np.mean(evaluations)"
   ]
  },
  {
   "cell_type": "code",
   "execution_count": 29,
   "metadata": {},
   "outputs": [
    {
     "name": "stdout",
     "output_type": "stream",
     "text": [
      "k=0 rmse=0.8017872301712802\n",
      "k=1 rmse=0.8021445030888144\n",
      "k=2 rmse=0.8023496259180257\n",
      "k=3 rmse=0.8005408759112953\n",
      "k=4 rmse=0.7999771837296881\n"
     ]
    },
    {
     "data": {
      "text/plain": [
       "0.8013598837638207"
      ]
     },
     "execution_count": 29,
     "metadata": {},
     "output_type": "execute_result"
    }
   ],
   "source": [
    "multiALSrun(df, k=5)"
   ]
  },
  {
   "cell_type": "code",
   "execution_count": null,
   "metadata": {},
   "outputs": [],
   "source": [
    "(train_set, validation_set) = train_samp.randomSplit([0.8, 0.2])\n",
    "evaluator = RegressionEvaluator(metricName='rmse', labelCol='rating', predictionCol='prediction')\n",
    "als = ALS(userCol='userId', itemCol='movieId', ratingCol='rating')\n",
    "params = ParamGridBuilder().addGrid(als.rank, [1,3,5,10])\\\n",
    "                          .addGrid(als.maxIter, [10,20])\\\n",
    "                          .addGrid(als.regParam, [0.01, 0.1, 0.5])\\\n",
    "                          .build()\n",
    "\n",
    "crossvalidator = CrossValidator(estimator=als, \n",
    "                                estimatorParamMaps=params, \n",
    "                                evaluator=evaluator,\n",
    "                                numFolds=10)\n",
    "\n",
    "modelCV = crossvalidator.fit(train_set)\n",
    "pred_set = modelCV.transform(validation_set)"
   ]
  },
  {
   "cell_type": "code",
   "execution_count": null,
   "metadata": {},
   "outputs": [],
   "source": []
  }
 ],
 "metadata": {
  "kernelspec": {
   "display_name": "Python 3",
   "language": "python",
   "name": "python3"
  },
  "language_info": {
   "codemirror_mode": {
    "name": "ipython",
    "version": 3
   },
   "file_extension": ".py",
   "mimetype": "text/x-python",
   "name": "python",
   "nbconvert_exporter": "python",
   "pygments_lexer": "ipython3",
   "version": "3.7.3"
  }
 },
 "nbformat": 4,
 "nbformat_minor": 2
}
