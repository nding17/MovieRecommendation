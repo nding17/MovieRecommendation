{
 "cells": [
  {
   "cell_type": "code",
   "execution_count": 49,
   "metadata": {},
   "outputs": [],
   "source": [
    "import pandas as pd\n",
    "import numpy as np\n",
    "import datetime\n",
    "import pyspark\n",
    "from pyspark.sql import SparkSession\n",
    "from pyspark.ml.recommendation import ALS\n",
    "from pyspark.ml.evaluation import RegressionEvaluator\n",
    "from pyspark.mllib.evaluation import RegressionMetrics, RankingMetrics\n",
    "from pyspark.ml.tuning import CrossValidator, ParamGridBuilder\n",
    "import matplotlib.pyplot as plt"
   ]
  },
  {
   "cell_type": "code",
   "execution_count": 2,
   "metadata": {},
   "outputs": [],
   "source": [
    "spark = SparkSession.builder.getOrCreate()"
   ]
  },
  {
   "cell_type": "code",
   "execution_count": 3,
   "metadata": {},
   "outputs": [],
   "source": [
    "ratings = pd.read_csv('./data/ratings.csv')"
   ]
  },
  {
   "cell_type": "code",
   "execution_count": 4,
   "metadata": {},
   "outputs": [],
   "source": [
    "ratings['timestamp'] = ratings['timestamp'].apply(datetime.datetime.fromtimestamp)\n",
    "sample = ratings[ratings['timestamp'].apply(lambda x: x.date()) >= datetime.date(2013,3,31)]"
   ]
  },
  {
   "cell_type": "code",
   "execution_count": 5,
   "metadata": {},
   "outputs": [],
   "source": [
    "df = spark.createDataFrame(sample)\n",
    "(train_samp, test_samp) = df.randomSplit([0.8, 0.2])\n",
    "model = ALS(userCol='userId', \n",
    "            itemCol='movieId', \n",
    "            ratingCol='rating').fit(train_samp)"
   ]
  },
  {
   "cell_type": "code",
   "execution_count": 6,
   "metadata": {},
   "outputs": [
    {
     "data": {
      "text/html": [
       "<div>\n",
       "<style scoped>\n",
       "    .dataframe tbody tr th:only-of-type {\n",
       "        vertical-align: middle;\n",
       "    }\n",
       "\n",
       "    .dataframe tbody tr th {\n",
       "        vertical-align: top;\n",
       "    }\n",
       "\n",
       "    .dataframe thead th {\n",
       "        text-align: right;\n",
       "    }\n",
       "</style>\n",
       "<table border=\"1\" class=\"dataframe\">\n",
       "  <thead>\n",
       "    <tr style=\"text-align: right;\">\n",
       "      <th></th>\n",
       "      <th>userId</th>\n",
       "      <th>movieId</th>\n",
       "      <th>rating</th>\n",
       "      <th>timestamp</th>\n",
       "      <th>prediction</th>\n",
       "    </tr>\n",
       "  </thead>\n",
       "  <tbody>\n",
       "    <tr>\n",
       "      <th>0</th>\n",
       "      <td>36445</td>\n",
       "      <td>148</td>\n",
       "      <td>4.5</td>\n",
       "      <td>2014-12-23 13:15:55</td>\n",
       "      <td>2.348654</td>\n",
       "    </tr>\n",
       "    <tr>\n",
       "      <th>1</th>\n",
       "      <td>3990</td>\n",
       "      <td>148</td>\n",
       "      <td>4.0</td>\n",
       "      <td>2015-02-01 14:04:54</td>\n",
       "      <td>2.398480</td>\n",
       "    </tr>\n",
       "    <tr>\n",
       "      <th>2</th>\n",
       "      <td>47935</td>\n",
       "      <td>471</td>\n",
       "      <td>4.0</td>\n",
       "      <td>2014-07-31 04:58:49</td>\n",
       "      <td>3.468599</td>\n",
       "    </tr>\n",
       "    <tr>\n",
       "      <th>3</th>\n",
       "      <td>108159</td>\n",
       "      <td>471</td>\n",
       "      <td>3.5</td>\n",
       "      <td>2015-03-06 00:13:30</td>\n",
       "      <td>3.147306</td>\n",
       "    </tr>\n",
       "    <tr>\n",
       "      <th>4</th>\n",
       "      <td>8085</td>\n",
       "      <td>471</td>\n",
       "      <td>4.0</td>\n",
       "      <td>2013-04-23 00:04:21</td>\n",
       "      <td>3.752974</td>\n",
       "    </tr>\n",
       "  </tbody>\n",
       "</table>\n",
       "</div>"
      ],
      "text/plain": [
       "   userId  movieId  rating           timestamp  prediction\n",
       "0   36445      148     4.5 2014-12-23 13:15:55    2.348654\n",
       "1    3990      148     4.0 2015-02-01 14:04:54    2.398480\n",
       "2   47935      471     4.0 2014-07-31 04:58:49    3.468599\n",
       "3  108159      471     3.5 2015-03-06 00:13:30    3.147306\n",
       "4    8085      471     4.0 2013-04-23 00:04:21    3.752974"
      ]
     },
     "execution_count": 6,
     "metadata": {},
     "output_type": "execute_result"
    }
   ],
   "source": [
    "predictions = model.transform(test_samp)\n",
    "predictions.toPandas().head()"
   ]
  },
  {
   "cell_type": "code",
   "execution_count": 7,
   "metadata": {},
   "outputs": [
    {
     "data": {
      "text/plain": [
       "0.7985887790406423"
      ]
     },
     "execution_count": 7,
     "metadata": {},
     "output_type": "execute_result"
    }
   ],
   "source": [
    "evaluator = RegressionEvaluator(metricName='rmse', labelCol='rating', predictionCol='prediction')\n",
    "evaluator.evaluate(predictions.na.drop())"
   ]
  },
  {
   "cell_type": "code",
   "execution_count": 8,
   "metadata": {},
   "outputs": [],
   "source": [
    "def multiALSrun(df, \n",
    "                k=3, \n",
    "                userCol='userId',\n",
    "                itemCol='movieId',\n",
    "                ratingCol='rating',\n",
    "                metricName='rmse'):\n",
    "    \n",
    "    evaluations = np.array([])\n",
    "    \n",
    "    for i in range(0, k):\n",
    "        (train, test) = df.randomSplit([(k-1.0)/k, 1.0/k])\n",
    "        als = ALS(userCol=userCol, \n",
    "                  itemCol=itemCol, \n",
    "                  ratingCol=ratingCol)\n",
    "        model = als.fit(train)\n",
    "        pred = model.transform(test)\n",
    "        evaluator = RegressionEvaluator(metricName=metricName, \n",
    "                                        labelCol='rating', \n",
    "                                        predictionCol='prediction')\n",
    "        evaluation = evaluator.evaluate(pred.na.drop())\n",
    "        print(f'k={i} rmse={evaluation}')\n",
    "        evaluations = np.append(evaluations, evaluation)\n",
    "    \n",
    "    return np.mean(evaluations)"
   ]
  },
  {
   "cell_type": "code",
   "execution_count": 9,
   "metadata": {},
   "outputs": [
    {
     "name": "stdout",
     "output_type": "stream",
     "text": [
      "k=0 rmse=0.8022560739839893\n",
      "k=1 rmse=0.8019144020478577\n",
      "k=2 rmse=0.7991853163341229\n",
      "k=3 rmse=0.8029248942835733\n",
      "k=4 rmse=0.7992939861184246\n"
     ]
    },
    {
     "data": {
      "text/plain": [
       "0.8011149345535935"
      ]
     },
     "execution_count": 9,
     "metadata": {},
     "output_type": "execute_result"
    }
   ],
   "source": [
    "multiALSrun(df, k=5)"
   ]
  },
  {
   "cell_type": "code",
   "execution_count": 22,
   "metadata": {},
   "outputs": [],
   "source": [
    "all_users = sample.userId.unique()\n",
    "users_1000 = np.random.choice(all_users, 1000, replace=False)\n",
    "sample_1000 = sample.loc[sample.userId.isin(users_1000)]\n",
    "df_1000 = spark.createDataFrame(sample_1000)\n",
    "(train_1000, test_1000) = df_1000.randomSplit([80.0, 20.0])"
   ]
  },
  {
   "cell_type": "code",
   "execution_count": 23,
   "metadata": {},
   "outputs": [],
   "source": [
    "evaluator = RegressionEvaluator(metricName='rmse', labelCol='rating', predictionCol='prediction')\n",
    "als = ALS(userCol='userId', itemCol='movieId', ratingCol='rating')\n",
    "params = ParamGridBuilder().addGrid(als.rank, [1, 5, 10])\\\n",
    "                           .addGrid(als.maxIter, [20])\\\n",
    "                           .addGrid(als.regParam, [0.05, 0.1, 0.5])\\\n",
    "                           .build()\n",
    "\n",
    "crossvalidator = CrossValidator(estimator=als, \n",
    "                                estimatorParamMaps=params, \n",
    "                                evaluator=evaluator,\n",
    "                                numFolds=10)"
   ]
  },
  {
   "cell_type": "code",
   "execution_count": 24,
   "metadata": {},
   "outputs": [],
   "source": [
    "modelCV = crossvalidator.fit(train_1000)"
   ]
  },
  {
   "cell_type": "code",
   "execution_count": 25,
   "metadata": {},
   "outputs": [],
   "source": [
    "pred = modelCV.transform(test_1000)"
   ]
  },
  {
   "cell_type": "code",
   "execution_count": 28,
   "metadata": {},
   "outputs": [
    {
     "data": {
      "text/plain": [
       "1.1506805379672558"
      ]
     },
     "execution_count": 28,
     "metadata": {},
     "output_type": "execute_result"
    }
   ],
   "source": [
    "evaluator.evaluate(pred.na.drop())"
   ]
  },
  {
   "cell_type": "code",
   "execution_count": 56,
   "metadata": {},
   "outputs": [],
   "source": [
    "def cvModel(n_users=1000):\n",
    "    \n",
    "    all_users = sample.userId.unique()\n",
    "    nusers = np.random.choice(all_users, n_users, replace=False)\n",
    "    nsample = sample.loc[sample.userId.isin(nusers)]\n",
    "    df_n = spark.createDataFrame(nsample)\n",
    "    (train_n, test_n) = df_n.randomSplit([80.0, 20.0])\n",
    "    \n",
    "    eval_rmse = RegressionEvaluator(metricName='rmse', \n",
    "                                    labelCol='rating', \n",
    "                                    predictionCol='prediction')\n",
    "    eval_mae = RegressionEvaluator(metricName='mae', \n",
    "                                   labelCol='rating', \n",
    "                                   predictionCol='prediction')\n",
    "    \n",
    "    ranks = [10, 20, 30]\n",
    "    regs = [0.01, 0.05, 0.1, 0.5]\n",
    "    rmse_list = []\n",
    "    mae_list = []\n",
    "    \n",
    "    for rank in ranks:\n",
    "        for reg in regs:\n",
    "            als = ALS(userCol='userId', \n",
    "                      itemCol='movieId', \n",
    "                      ratingCol='rating',\n",
    "                      rank=rank,\n",
    "                      regParam=reg)\n",
    "            model = als.fit(train_n)\n",
    "            pred = model.transform(test_n)\n",
    "            rmse = eval_rmse.evaluate(pred.na.drop())\n",
    "            mae = eval_mae.evaluate(pred.na.drop())\n",
    "            # print(f'rank={rank}, regParam={reg}, rmse={evaluation}')\n",
    "            rmse_list.append((rank, reg, rmse))\n",
    "            mae_list.append((rank, reg, mae))\n",
    "            \n",
    "    best_rmse = sorted(rmse_list, key=lambda x: x[2])[0]\n",
    "    best_mae = sorted(mae_list, key=lambda x: x[2])[0]\n",
    "    \n",
    "    results = {\n",
    "        'rmse_list': rmse_list,\n",
    "        'mae_list': mae_list,\n",
    "        'best_rmse': best_rmse,\n",
    "        'best_mae': best_mae,\n",
    "    }\n",
    "    \n",
    "    return results"
   ]
  },
  {
   "cell_type": "code",
   "execution_count": 58,
   "metadata": {},
   "outputs": [],
   "source": [
    "all_evals = []\n",
    "user_size = len(all_users)\n",
    "n_users = np.linspace(1000, user_size, 5)\n",
    "\n",
    "for usize in n_users:\n",
    "    all_evals.append(cvModel(n_users=int(usize)))"
   ]
  },
  {
   "cell_type": "code",
   "execution_count": 64,
   "metadata": {},
   "outputs": [],
   "source": [
    "best_rmse_lst = [evaluation['best_rmse'][2] for evaluation in all_evals]\n",
    "best_mae_lst = [evaluation['best_mae'][2] for evaluation in all_evals]"
   ]
  },
  {
   "cell_type": "code",
   "execution_count": 68,
   "metadata": {},
   "outputs": [
    {
     "data": {
      "image/png": "[encoded data removed]",
      "text/plain": [
       "<Figure size 432x288 with 1 Axes>"
      ]
     },
     "metadata": {
      "needs_background": "light"
     },
     "output_type": "display_data"
    }
   ],
   "source": [
    "plt.plot(n_users, best_rmse_lst)\n",
    "plt.xlabel('user size')\n",
    "plt.ylabel('RMSE')\n",
    "plt.show()"
   ]
  },
  {
   "cell_type": "code",
   "execution_count": 69,
   "metadata": {},
   "outputs": [
    {
     "data": {
      "image/png": "[encoded data removed]",
      "text/plain": [
       "<Figure size 432x288 with 1 Axes>"
      ]
     },
     "metadata": {
      "needs_background": "light"
     },
     "output_type": "display_data"
    }
   ],
   "source": [
    "plt.plot(n_users, best_mae_lst)\n",
    "plt.xlabel('user size')\n",
    "plt.ylabel('MAE')\n",
    "plt.show()"
   ]
  },
  {
   "cell_type": "code",
   "execution_count": null,
   "metadata": {},
   "outputs": [],
   "source": []
  }
 ],
 "metadata": {
  "kernelspec": {
   "display_name": "Python 3",
   "language": "python",
   "name": "python3"
  },
  "language_info": {
   "codemirror_mode": {
    "name": "ipython",
    "version": 3
   },
   "file_extension": ".py",
   "mimetype": "text/x-python",
   "name": "python",
   "nbconvert_exporter": "python",
   "pygments_lexer": "ipython3",
   "version": "3.7.3"
  }
 },
 "nbformat": 4,
 "nbformat_minor": 2
}
